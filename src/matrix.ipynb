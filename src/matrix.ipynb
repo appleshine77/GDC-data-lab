{
 "cells": [
  {
   "cell_type": "code",
   "execution_count": 95,
   "metadata": {
    "collapsed": true
   },
   "outputs": [],
   "source": [
    "import pandas as pd \n",
    "import hashlib\n",
    "import os \n",
    "from utils import logger\n",
    "def file_as_bytes(file):\n",
    "    with file:\n",
    "        return file.read()"
   ]
  },
  {
   "cell_type": "code",
   "execution_count": 96,
   "metadata": {
    "collapsed": false
   },
   "outputs": [
    {
     "name": "stderr",
     "output_type": "stream",
     "text": [
      "/Users/xin/anaconda/envs/py3k/lib/python3.7/site-packages/IPython/core/interactiveshell.py:2785: DtypeWarning: Columns (1,5,9,10,11,12,13,14,15,16,17,18,21,22,23,24,25,26,29,30,31,32,33,34,35,36,37,38,39,40,45,50,54,55,56,57,58,59,71,72,73,74,75,76,77,78,79,80,81,84,86,87,89,90,92,97,98,99,110,111,112,113,114,115,117,124,125,136,138,139,140,141,142,143,144,145,146,148,149,151,152,165,177,178,179,180,181,182,183,184,185,186,187,191,192,194,200,203,204,205,214,215,217,218,219,222,223,224,225,226,227,228,229,230,231,233,234,242,243,254,264,265,266,267,268,269,270,271,273,274,275,276,277,278,279,280,282,283,284,285,286,287,288,289,290) have mixed types. Specify dtype option on import or set low_memory=False.\n",
      "  interactivity=interactivity, compiler=compiler, result=result)\n"
     ]
    }
   ],
   "source": [
    "import numpy as np\n",
    "pd.set_option('display.max_columns', None)\n",
    "df = pd.read_csv(\"/Users/xin/Downloads/EE542/Labs/lab10/data/files_meta.tsv\", sep=\"\\t\")\n",
    "df_case = pd.read_csv(\"/Users/xin/Downloads/EE542/Labs/lab10/data/cases_meta.tsv\", sep=\"\\t\")\n",
    "df_map = pd.read_csv(\"/Users/xin/Downloads/EE542/Labs/lab10/data/file_case_id_DNA.csv\")"
   ]
  },
  {
   "cell_type": "code",
   "execution_count": 97,
   "metadata": {
    "collapsed": false,
    "scrolled": false
   },
   "outputs": [],
   "source": [
    "df.loc[df['cases.0.samples.0.sample_type'].str.contains(\"Normal\"), 'label'] = 0\n",
    "df.loc[~df['cases.0.samples.0.sample_type'].str.contains(\"Normal\"), 'label'] = 1"
   ]
  },
  {
   "cell_type": "code",
   "execution_count": 98,
   "metadata": {
    "collapsed": false
   },
   "outputs": [
    {
     "name": "stdout",
     "output_type": "stream",
     "text": [
      "5e188175-1acc-4492-af53-8eef15400b61\n",
      "2038fd65-d8f1-4b16-af90-b1c8f9a379a7\n",
      "Ovary\n",
      "Ovary\n",
      "b10221df-896b-449f-8526-a606763c95f0\n",
      "c5355491-e1e8-46a4-a05e-bafcaf2e7459\n",
      "Ovary\n",
      "Ovary\n",
      "fe884482-47e2-4ea4-9351-d464fd28c06b\n",
      "446ce2a3-d328-443c-a419-3344baad0e16\n",
      "Ovary\n",
      "Ovary\n",
      "bdc72569-8da5-45fd-9633-17c38481a370\n",
      "78777a80-cc6c-46c9-a14a-837ac7943719\n",
      "Ovary\n",
      "Ovary\n",
      "586bcf84-4b83-458f-8d9d-1cdc39b4af83\n",
      "d7925dfc-18ce-46ab-a47b-9d06eacc96d0\n",
      "Ovary\n",
      "Ovary\n",
      "befb4951-1e89-4d8b-beab-466200e86caf\n",
      "e641aed9-1dd8-4c30-b231-f12b20a76df0\n",
      "Ovary\n",
      "Ovary\n",
      "1fd0d5bb-732b-4537-b456-ecdb44ed4fbe\n",
      "94efd4f9-69b0-4efa-8a0c-61106e898fdd\n",
      "Ovary\n",
      "Ovary\n",
      "51d8da81-e323-4f90-8b46-8da93d289ee4\n",
      "56a30462-2819-4c18-95be-8e73880a4921\n",
      "Ovary\n",
      "Ovary\n",
      "a76d1f5a-76dc-46de-9f27-8006dc0c9c64\n",
      "1e14f098-17b2-4f54-8e4f-e38088008df7\n",
      "Ovary\n",
      "Ovary\n",
      "b5109358-bfe3-4fe3-93be-b123fa43a85e\n",
      "2a924999-1fbf-470a-97bd-fd2276a9a366\n",
      "Ovary\n",
      "Ovary\n"
     ]
    }
   ],
   "source": [
    "for i in range(450,460):#,df.shape[0]):#rows\n",
    "    print(df.loc[i,'file_id'])\n",
    "    cur = df_map.loc[df_map['file_id']==df.loc[i,'file_id']]\n",
    "    case_id = cur['case_id'].item()\n",
    "    print(case_id)\n",
    "    cur_case = df_case.loc[df_case['case_id']==case_id]\n",
    "    cur_label = cur_case.primary_site.item()\n",
    "    print(cur_label)\n",
    "    df.loc[i,'label'] = cur_label\n",
    "    print(df.loc[i, 'label'])"
   ]
  },
  {
   "cell_type": "code",
   "execution_count": 99,
   "metadata": {
    "collapsed": false
   },
   "outputs": [
    {
     "ename": "SyntaxError",
     "evalue": "invalid syntax (<ipython-input-99-8a2437cbcfce>, line 1)",
     "output_type": "error",
     "traceback": [
      "\u001b[0;36m  File \u001b[0;32m\"<ipython-input-99-8a2437cbcfce>\"\u001b[0;36m, line \u001b[0;32m1\u001b[0m\n\u001b[0;31m    df_case.loc[df_case['file_id'] == df_map].md5.values[0] != filehash:\u001b[0m\n\u001b[0m                                                                        ^\u001b[0m\n\u001b[0;31mSyntaxError\u001b[0m\u001b[0;31m:\u001b[0m invalid syntax\n"
     ]
    }
   ],
   "source": [
    "    df_case.loc[df_case['file_id'] == df_map].md5.values[0] != filehash:\n",
    "    \n",
    "df['primary_site'] = df_case['primary_site']\n",
    "df.label=np.where(df.label==1, df.primary_site, df.label) \n",
    "tumor_count = df.loc[df.label != 1].shape[0]\n",
    "normal_count = df.loc[df.label == 0].shape[0]\n",
    "logger.info(\"{} Normal samples, {} Tumor samples \".format(normal_count,tumor_count))"
   ]
  },
  {
   "cell_type": "code",
   "execution_count": null,
   "metadata": {
    "collapsed": false,
    "scrolled": false
   },
   "outputs": [],
   "source": [
    "import numpy as np\n",
    "df['primary_site'] = df_case['primary_site']\n",
    "print (df['primary_site'].shape)\n",
    "#df.head()\n",
    "df.label=np.where(df.label==1,df.primary_site,df.label) \n",
    "#df.groupby('primary_site').nunique()\n",
    "df_case.primary_site.unique()\n",
    "len(df_case.primary_site.unique())\n",
    "#df['label'].apply(lambda x:int(x))"
   ]
  },
  {
   "cell_type": "code",
   "execution_count": null,
   "metadata": {
    "collapsed": true
   },
   "outputs": [],
   "source": [
    "def extractMatrix(dirname):\n",
    "\t'''\n",
    "\treturn a dataframe of the miRNA matrix, each row is the miRNA counts for a file_id\n",
    "\n",
    "\t'''\n",
    "\tcount = 0\n",
    "\n",
    "\tmiRNA_data = []\n",
    "\tfor idname in os.listdir(dirname):\n",
    "\t\t# list all the ids \n",
    "\t\tif idname.find(\"-\") != -1:\n",
    "\t\t\tidpath = dirname +\"/\" + idname\n",
    "\n",
    "\t\t\t# all the files in each id directory\n",
    "\t\t\tfor filename in os.listdir(idpath):\n",
    "\t\t\t\t# check the miRNA file\n",
    "\t\t\t\tif filename.find(\"-\") != -1:\n",
    "\n",
    "\t\t\t\t\tfilepath = idpath + \"/\" + filename\n",
    "\t\t\t\t\tdf = pd.read_csv(filepath,sep=\"\\t\")\n",
    "\t\t\t\t\t# columns = [\"miRNA_ID\", \"read_count\"]\n",
    "\t\t\t\t\tif count ==0:\n",
    "\t\t\t\t\t\t# get the miRNA_IDs \n",
    "\t\t\t\t\t\tmiRNA_IDs = df.miRNA_ID.values.tolist()\n",
    "\n",
    "\t\t\t\t\tid_miRNA_read_counts = [idname] + df.read_count.values.tolist()\n",
    "\t\t\t\t\tmiRNA_data.append(id_miRNA_read_counts)\n",
    "\n",
    "\n",
    "\t\t\t\t\tcount +=1\n",
    "\t\t\t\t\t# print (df)\n",
    "\tcolumns = [\"file_id\"] + miRNA_IDs\n",
    "\tdf = pd.DataFrame(miRNA_data, columns=columns)\n",
    "\treturn df"
   ]
  },
  {
   "cell_type": "code",
   "execution_count": null,
   "metadata": {
    "collapsed": false
   },
   "outputs": [],
   "source": [
    "def extractLabel(inputfile, casefile):\n",
    "    df = pd.read_csv(inputfile, sep=\"\\t\")\n",
    "    df_case = pd.read_csv(casefile, sep=\"\\t\")\n",
    "    #\n",
    "    # print (df[columns])\n",
    "    df['label'] = df['cases.0.samples.0.sample_type']\n",
    "    df['primary_site'] = df_case['primary_site']\n",
    "    print (df['primary_site'].shape)\n",
    "    \"\"\"\n",
    "\tdf.loc[df['cases.0.samples.0.sample_type'].str.contains(\"Normal\"), 'label'] = 0\n",
    "\tdf.loc[df['cases.0.samples.0.sample_type'].str.contains(\"Tumor\"), 'label'] = 1\n",
    "\ttumor_count = df.loc[df.label == 1].shape[0]\n",
    "\tnormal_count = df.loc[df.label == 0].shape[0]\n",
    "\tlogger.info(\"{} Normal samples, {} Tumor samples \".format(normal_count,tumor_count))\n",
    "\tcolumns = ['file_id','label']\n",
    "    \"\"\"\n",
    "    df.loc[df['cases.0.samples.0.sample_type'].str.contains(\"Normal\"), 'label'] = 0\n",
    "    df.loc[df['cases.0.samples.0.sample_type'].str.contains(\"Tumor\"), 'label'] = 1\n",
    "    df.head()\n",
    "    tumor_count = df.loc[df.label == 1].shape[0]\n",
    "    normal_count = df.loc[df.label == 0].shape[0]\n",
    "    logger.info(\"{} Normal samples, {} Tumor samples \".format(normal_count,tumor_count))\n",
    "    columns = ['file_id','label']\n",
    "    return df[columns]"
   ]
  },
  {
   "cell_type": "code",
   "execution_count": null,
   "metadata": {
    "collapsed": false
   },
   "outputs": [],
   "source": [
    "data_dir =\"/Users/xin/Downloads/EE542/Labs/lab10/data/\"\n",
    "# Input directory and label file. The directory that holds the data. Modify this when use.\n",
    "dirname = data_dir + \"miRNA\"\n",
    "label_file = data_dir + \"files_meta.tsv\"\n",
    "case_file = data_dir + \"cases_meta.tsv\"\n",
    "#output file\n",
    "outputfile = data_dir + \"miRNA_matrix.csv\"\n",
    "\n",
    "# extract data\n",
    "matrix_df = extractMatrix(dirname)\n",
    "label_df = extractLabel(label_file, case_file)"
   ]
  },
  {
   "cell_type": "code",
   "execution_count": null,
   "metadata": {
    "collapsed": false
   },
   "outputs": [],
   "source": [
    "import pandas as pd \n",
    "import hashlib\n",
    "import os \n",
    "from utils import logger\n",
    "def file_as_bytes(file):\n",
    "    with file:\n",
    "        return file.read()\n",
    "\n",
    "def extractMatrix(dirname):\n",
    "\t'''\n",
    "\treturn a dataframe of the miRNA matrix, each row is the miRNA counts for a file_id\n",
    "\n",
    "\t'''\n",
    "\tcount = 0\n",
    "\n",
    "\tmiRNA_data = []\n",
    "\tfor idname in os.listdir(dirname):\n",
    "\t\t# list all the ids \n",
    "\t\tif idname.find(\"-\") != -1:\n",
    "\t\t\tidpath = dirname +\"/\" + idname\n",
    "\n",
    "\t\t\t# all the files in each id directory\n",
    "\t\t\tfor filename in os.listdir(idpath):\n",
    "\t\t\t\t# check the miRNA file\n",
    "\t\t\t\tif filename.find(\"-\") != -1:\n",
    "\n",
    "\t\t\t\t\tfilepath = idpath + \"/\" + filename\n",
    "\t\t\t\t\tdf = pd.read_csv(filepath,sep=\"\\t\")\n",
    "\t\t\t\t\t# columns = [\"miRNA_ID\", \"read_count\"]\n",
    "\t\t\t\t\tif count ==0:\n",
    "\t\t\t\t\t\t# get the miRNA_IDs \n",
    "\t\t\t\t\t\tmiRNA_IDs = df.miRNA_ID.values.tolist()\n",
    "\n",
    "\t\t\t\t\tid_miRNA_read_counts = [idname] + df.read_count.values.tolist()\n",
    "\t\t\t\t\tmiRNA_data.append(id_miRNA_read_counts)\n",
    "\n",
    "\n",
    "\t\t\t\t\tcount +=1\n",
    "\t\t\t\t\t# print (df)\n",
    "\tcolumns = [\"file_id\"] + miRNA_IDs\n",
    "\tdf = pd.DataFrame(miRNA_data, columns=columns)\n",
    "\treturn df\n",
    "\n",
    "def extractLabel(inputfile, casefile):\n",
    "\tdf = pd.read_csv(inputfile, sep=\"\\t\")\n",
    "\tdf_case = pd.read_csv(casefile, sep=\"\\t\")\n",
    "\t#\n",
    "\t# print (df[columns])\n",
    "\tdf['label'] = df['cases.0.samples.0.sample_type']\n",
    "\tdf['primary_site'] = df_case['primary_site']\n",
    "\tprint df['primary_site'].shape\n",
    "\t\"\"\"\n",
    "\tdf.loc[df['cases.0.samples.0.sample_type'].str.contains(\"Normal\"), 'label'] = 0\n",
    "\tdf.loc[df['cases.0.samples.0.sample_type'].str.contains(\"Tumor\"), 'label'] = 1\n",
    "\ttumor_count = df.loc[df.label == 1].shape[0]\n",
    "\tnormal_count = df.loc[df.label == 0].shape[0]\n",
    "\tlogger.info(\"{} Normal samples, {} Tumor samples \".format(normal_count,tumor_count))\n",
    "\tcolumns = ['file_id','label']\n",
    "\t\"\"\"\n",
    "\tdf.loc[df['cases.0.samples.0.sample_type'].str.contains(\"Normal\"), 'label'] = 0\n",
    "\tdf.loc[df['cases.0.samples.0.sample_type'].str.contains(\"Tumor\"), 'label'] = 1\n",
    "\n",
    "\ttumor_count = df.loc[df.label == 1].shape[0]\n",
    "\tnormal_count = df.loc[df.label == 0].shape[0]\n",
    "\tlogger.info(\"{} Normal samples, {} Tumor samples \".format(normal_count,tumor_count))\n",
    "\tcolumns = ['file_id','label']\n",
    "\treturn df[columns]\n",
    "\n",
    "if __name__ == '__main__':\n",
    "\n",
    "\n",
    "\tdata_dir =\"/Users/xin/Downloads/EE542/Labs/lab10/data/\"\n",
    "\t# Input directory and label file. The directory that holds the data. Modify this when use.\n",
    "\tdirname = data_dir + \"miRNA\"\n",
    "\tlabel_file = data_dir + \"files_meta.tsv\"\n",
    "\tcase_file = data_dir + \"cases_meta.tsv\"\n",
    "\t#output file\n",
    "\toutputfile = data_dir + \"miRNA_matrix.csv\"\n",
    "\n",
    "\t# extract data\n",
    "\tmatrix_df = extractMatrix(dirname)\n",
    "\tlabel_df = extractLabel(label_file, case_file)\n",
    "\n",
    "\t#merge the two based on the file_id\n",
    "\tresult = pd.merge(matrix_df, label_df, on='file_id', how=\"left\")\n",
    "\t#print(result)\n",
    "\n",
    "\t#save data\n",
    "\tresult.to_csv(outputfile, index=False)\n",
    "\t#print (labeldf)\n",
    " "
   ]
  }
 ],
 "metadata": {
  "kernelspec": {
   "display_name": "Python 3",
   "language": "python",
   "name": "python3"
  },
  "language_info": {
   "codemirror_mode": {
    "name": "ipython",
    "version": 3
   },
   "file_extension": ".py",
   "mimetype": "text/x-python",
   "name": "python",
   "nbconvert_exporter": "python",
   "pygments_lexer": "ipython3",
   "version": "3.7.0"
  }
 },
 "nbformat": 4,
 "nbformat_minor": 2
}
